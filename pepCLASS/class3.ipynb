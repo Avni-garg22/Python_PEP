{
 "cells": [
  {
   "cell_type": "code",
   "execution_count": 23,
   "metadata": {},
   "outputs": [
    {
     "name": "stdout",
     "output_type": "stream",
     "text": [
      "370\n",
      "6688\n"
     ]
    }
   ],
   "source": [
    "#check Armstrong number\n",
    "for num in (range(1,10000)):\n",
    "    strnum=str(num)\n",
    "    pow=len(strnum)\n",
    "    sum=0\n",
    "    for i in (range(len(strnum)-1)):\n",
    "        sum+= int(strnum[i])**pow\n",
    "    if (sum==num):\n",
    "        print(num)"
   ]
  },
  {
   "cell_type": "code",
   "execution_count": 4,
   "id": "07f395ba",
   "metadata": {},
   "outputs": [],
   "source": [
    "# lists\n",
    "\n",
    "List=[1,2,3,4.0,\"Python\",True,[43,44,45]]"
   ]
  },
  {
   "cell_type": "code",
   "execution_count": 8,
   "id": "d99ab1c4",
   "metadata": {},
   "outputs": [
    {
     "data": {
      "text/plain": [
       "list"
      ]
     },
     "execution_count": 8,
     "metadata": {},
     "output_type": "execute_result"
    }
   ],
   "source": [
    "type(List[6])"
   ]
  },
  {
   "cell_type": "code",
   "execution_count": 9,
   "id": "c6ea9238",
   "metadata": {},
   "outputs": [
    {
     "data": {
      "text/plain": [
       "[1, 2, 3, 4.0, 'Python', True, [43, 44, 45]]"
      ]
     },
     "execution_count": 9,
     "metadata": {},
     "output_type": "execute_result"
    }
   ],
   "source": [
    "List"
   ]
  },
  {
   "cell_type": "code",
   "execution_count": 10,
   "id": "acae11fd",
   "metadata": {},
   "outputs": [
    {
     "name": "stdout",
     "output_type": "stream",
     "text": [
      "1\n"
     ]
    }
   ],
   "source": [
    "print(List[0])"
   ]
  },
  {
   "cell_type": "code",
   "execution_count": null,
   "id": "f4a65874",
   "metadata": {},
   "outputs": [
    {
     "data": {
      "text/plain": [
       "[1, 2, 3, 4.0, 60, True, [43, 44, 45]]"
      ]
     },
     "execution_count": 12,
     "metadata": {},
     "output_type": "execute_result"
    }
   ],
   "source": [
    "List[4]=60 #change value\n",
    "List"
   ]
  },
  {
   "cell_type": "code",
   "execution_count": 13,
   "id": "8871af84",
   "metadata": {},
   "outputs": [],
   "source": [
    "List.append('python')"
   ]
  },
  {
   "cell_type": "code",
   "execution_count": 15,
   "id": "3fba1642",
   "metadata": {},
   "outputs": [
    {
     "data": {
      "text/plain": [
       "[1, 2, 3, 4.0, 60, True, [43, 44, 45], 'python']"
      ]
     },
     "execution_count": 15,
     "metadata": {},
     "output_type": "execute_result"
    }
   ],
   "source": [
    "List"
   ]
  },
  {
   "cell_type": "code",
   "execution_count": 17,
   "id": "61eb900a",
   "metadata": {},
   "outputs": [
    {
     "data": {
      "text/plain": [
       "[1, 2, 'avi', 3, 4.0, 60, True, [43, 44, 45], 'python']"
      ]
     },
     "execution_count": 17,
     "metadata": {},
     "output_type": "execute_result"
    }
   ],
   "source": [
    "#list.insert(indexValue,value)\n",
    "\n",
    "List.insert(2,'avi')\n",
    "List"
   ]
  },
  {
   "cell_type": "code",
   "execution_count": 18,
   "id": "8be65776",
   "metadata": {},
   "outputs": [
    {
     "data": {
      "text/plain": [
       "[1, 2, 'avi', 3, 4.0, True, [43, 44, 45], 'python']"
      ]
     },
     "execution_count": 18,
     "metadata": {},
     "output_type": "execute_result"
    }
   ],
   "source": [
    "List.remove(60)\n",
    "List"
   ]
  },
  {
   "cell_type": "code",
   "execution_count": 19,
   "id": "e1ffedec",
   "metadata": {},
   "outputs": [
    {
     "data": {
      "text/plain": [
       "[1, 2, 'avi', 3, 4.0, True, [43, 44, 45], 'python']"
      ]
     },
     "execution_count": 19,
     "metadata": {},
     "output_type": "execute_result"
    }
   ],
   "source": [
    "List.copy()\n",
    "List\n"
   ]
  },
  {
   "cell_type": "code",
   "execution_count": 20,
   "id": "8c83d973",
   "metadata": {},
   "outputs": [
    {
     "data": {
      "text/plain": [
       "[1, 2, 'avi', 3, 4.0, True, [43, 44, 45], 'python']"
      ]
     },
     "execution_count": 20,
     "metadata": {},
     "output_type": "execute_result"
    }
   ],
   "source": [
    "List1=List\n",
    "List1"
   ]
  },
  {
   "cell_type": "code",
   "execution_count": 22,
   "id": "863f8f03",
   "metadata": {},
   "outputs": [
    {
     "data": {
      "text/plain": [
       "[1, 2, 'avi', 3, 'pikachuu', 4.0, True, [43, 44, 45], 'python']"
      ]
     },
     "execution_count": 22,
     "metadata": {},
     "output_type": "execute_result"
    }
   ],
   "source": [
    "List1.insert(4,'pikachuu')\n",
    "List"
   ]
  },
  {
   "cell_type": "code",
   "execution_count": 24,
   "id": "3e9ec152",
   "metadata": {},
   "outputs": [
    {
     "name": "stdout",
     "output_type": "stream",
     "text": [
      "[169, 441, 1156, 1024, 1156, 2916, 4225, 5776, 3136, 4225]\n"
     ]
    }
   ],
   "source": [
    "num_list=[13,21,34,32,34,54,65,76,56,65]\n",
    "\n",
    "new_list=[]\n",
    "for i in num_list:\n",
    "    new_list.append(i**2)\n",
    "print(new_list)"
   ]
  },
  {
   "cell_type": "code",
   "execution_count": 28,
   "id": "d04a37cd",
   "metadata": {},
   "outputs": [
    {
     "data": {
      "text/plain": [
       "[20, 21, 31, 32, 56, 65, 78, 89, 90]"
      ]
     },
     "execution_count": 28,
     "metadata": {},
     "output_type": "execute_result"
    }
   ],
   "source": [
    "list=[21,20,32,31,56,78,65,90,89]\n",
    "\n",
    "#write a code to sort the list\n",
    "\n",
    "for i in range (len(list)-1):\n",
    "    for j in range(i+1,len(list)):\n",
    "        if list[i]>list[j]:\n",
    "            list[i],list[j]=list[j],list[i]\n",
    "\n",
    "list"
   ]
  },
  {
   "cell_type": "code",
   "execution_count": 29,
   "id": "e6a05daf",
   "metadata": {},
   "outputs": [
    {
     "data": {
      "text/plain": [
       "32"
      ]
     },
     "execution_count": 29,
     "metadata": {},
     "output_type": "execute_result"
    }
   ],
   "source": [
    "list[3]"
   ]
  },
  {
   "cell_type": "code",
   "execution_count": 41,
   "id": "aa431572",
   "metadata": {},
   "outputs": [
    {
     "data": {
      "text/plain": [
       "[[1, 2, 3, 4, 5],\n",
       " [6, 7, 8, 9, 10],\n",
       " [3, 4, 5, 6, 7],\n",
       " [10, 11, 12, 13, 14],\n",
       " [4, 6, 8, 4, 5],\n",
       " [6, 67, 68, 69, 90]]"
      ]
     },
     "execution_count": 41,
     "metadata": {},
     "output_type": "execute_result"
    }
   ],
   "source": [
    "matrix=[[1,2,3,4,5],[6,7,8,9,10],[3,4,5,6,7],[10,11,12,13,14],[4,6,8,4,5],[6,67,68,69,90]]\n",
    "\n",
    "matrix"
   ]
  },
  {
   "cell_type": "code",
   "execution_count": 46,
   "id": "62fd1127",
   "metadata": {},
   "outputs": [
    {
     "data": {
      "text/plain": [
       "7"
      ]
     },
     "execution_count": 46,
     "metadata": {},
     "output_type": "execute_result"
    }
   ],
   "source": [
    "matrix[2][4]"
   ]
  },
  {
   "cell_type": "code",
   "execution_count": 47,
   "id": "1f7e795e",
   "metadata": {},
   "outputs": [
    {
     "data": {
      "text/plain": [
       "[6, 7, 8, 9, 10]"
      ]
     },
     "execution_count": 47,
     "metadata": {},
     "output_type": "execute_result"
    }
   ],
   "source": [
    "matrix=[[[1,2,3,4,5],[6,7,8,9,10]],[[3,4,5,6,7],[10,11,12,13,14]],[[4,6,8,4,5],[6,67,68,69,90]]]\n",
    "\n",
    "matrix[0][1]"
   ]
  },
  {
   "cell_type": "code",
   "execution_count": 48,
   "id": "5202c23a",
   "metadata": {},
   "outputs": [
    {
     "data": {
      "text/plain": [
       "8"
      ]
     },
     "execution_count": 48,
     "metadata": {},
     "output_type": "execute_result"
    }
   ],
   "source": [
    "matrix[0][1][2]"
   ]
  },
  {
   "cell_type": "code",
   "execution_count": 53,
   "id": "4b2a2985",
   "metadata": {},
   "outputs": [
    {
     "data": {
      "text/plain": [
       "(1, 2, 3, 4, 5, 6)"
      ]
     },
     "execution_count": 53,
     "metadata": {},
     "output_type": "execute_result"
    }
   ],
   "source": [
    "#tuple\n",
    "\n",
    "#immutable, ordered set data\n",
    "\n",
    "tuple=(1,2,3,4,5,6)\n",
    "tuple"
   ]
  },
  {
   "cell_type": "code",
   "execution_count": 54,
   "id": "ecb2421b",
   "metadata": {},
   "outputs": [
    {
     "ename": "TypeError",
     "evalue": "'tuple' object does not support item assignment",
     "output_type": "error",
     "traceback": [
      "\u001b[1;31m---------------------------------------------------------------------------\u001b[0m",
      "\u001b[1;31mTypeError\u001b[0m                                 Traceback (most recent call last)",
      "Cell \u001b[1;32mIn[54], line 1\u001b[0m\n\u001b[1;32m----> 1\u001b[0m \u001b[38;5;28mtuple\u001b[39m[\u001b[38;5;241m0\u001b[39m]\u001b[38;5;241m=\u001b[39m\u001b[38;5;241m4\u001b[39m\n",
      "\u001b[1;31mTypeError\u001b[0m: 'tuple' object does not support item assignment"
     ]
    }
   ],
   "source": [
    "tuple[0]=4\n"
   ]
  },
  {
   "cell_type": "code",
   "execution_count": 55,
   "id": "78ea3982",
   "metadata": {},
   "outputs": [
    {
     "data": {
      "text/plain": [
       "(1, 2, 3, 4, 5, 6)"
      ]
     },
     "execution_count": 55,
     "metadata": {},
     "output_type": "execute_result"
    }
   ],
   "source": [
    "tuple"
   ]
  },
  {
   "cell_type": "code",
   "execution_count": null,
   "id": "e79b3a7c",
   "metadata": {},
   "outputs": [
    {
     "ename": "AttributeError",
     "evalue": "'tuple' object has no attribute 'insert'",
     "output_type": "error",
     "traceback": [
      "\u001b[1;31m---------------------------------------------------------------------------\u001b[0m",
      "\u001b[1;31mAttributeError\u001b[0m                            Traceback (most recent call last)",
      "Cell \u001b[1;32mIn[59], line 1\u001b[0m\n\u001b[1;32m----> 1\u001b[0m \u001b[38;5;28mtuple\u001b[39m\u001b[38;5;241m.\u001b[39minsert(\u001b[38;5;241m2\u001b[39m,\u001b[38;5;241m5\u001b[39m)\n",
      "\u001b[1;31mAttributeError\u001b[0m: 'tuple' object has no attribute 'insert'"
     ]
    }
   ],
   "source": [
    "tuple.insert(2,5) #can change or insert"
   ]
  },
  {
   "cell_type": "code",
   "execution_count": 60,
   "id": "b2543fee",
   "metadata": {},
   "outputs": [
    {
     "name": "stdout",
     "output_type": "stream",
     "text": [
      "2\n",
      "3\n",
      "4\n",
      "5\n",
      "6\n"
     ]
    }
   ],
   "source": [
    "#set- unordered(cant be assessed with index), mutable colln of data, unique values, i.e no duplicates\n",
    "\n",
    "set={2,3,4,5,6}\n",
    "\n",
    "for i in set:\n",
    "    print(i)\n",
    "\n"
   ]
  },
  {
   "cell_type": "code",
   "execution_count": null,
   "id": "fb19f92d",
   "metadata": {},
   "outputs": [
    {
     "data": {
      "text/plain": [
       "{2, 3, 20}"
      ]
     },
     "execution_count": 67,
     "metadata": {},
     "output_type": "execute_result"
    }
   ],
   "source": [
    "set.add(20)\n",
    "set.discard(6)\n",
    "set.remove(5)\n",
    "set"
   ]
  },
  {
   "cell_type": "code",
   "execution_count": 68,
   "id": "904cb4e1",
   "metadata": {},
   "outputs": [
    {
     "name": "stdout",
     "output_type": "stream",
     "text": [
      "{1, 2, 3, 4, 5, 6, 7, 8}\n",
      "{3, 4, 5, 7, 8}\n",
      "{1, 6}\n",
      "{1, 2, 6}\n"
     ]
    }
   ],
   "source": [
    "s1={1,3,4,5,6,7,8}\n",
    "s2={2,3,4,5,7,7,8}\n",
    "\n",
    "#union of set\n",
    "print(s1.union(s2))\n",
    "#intersection\n",
    "print(s1.intersection(s2))\n",
    "#difference\n",
    "print(s1.difference(s2))\n",
    "#Symmetric Difference\n",
    "print(s1^s2)\n"
   ]
  },
  {
   "cell_type": "code",
   "execution_count": 69,
   "id": "73d563d4",
   "metadata": {},
   "outputs": [],
   "source": [
    "#dictionaries\n",
    "\n",
    "dict={\"name\":\"xyz\",\"age\":23}\n"
   ]
  },
  {
   "cell_type": "code",
   "execution_count": 70,
   "id": "a28f044b",
   "metadata": {},
   "outputs": [
    {
     "data": {
      "text/plain": [
       "'xyz'"
      ]
     },
     "execution_count": 70,
     "metadata": {},
     "output_type": "execute_result"
    }
   ],
   "source": [
    "dict['name']"
   ]
  },
  {
   "cell_type": "code",
   "execution_count": 71,
   "id": "7157d3b0",
   "metadata": {},
   "outputs": [],
   "source": [
    "dict['salary']=10000"
   ]
  },
  {
   "cell_type": "code",
   "execution_count": 72,
   "id": "64e08601",
   "metadata": {},
   "outputs": [
    {
     "data": {
      "text/plain": [
       "{'name': 'xyz', 'age': 23, 'salary': 10000}"
      ]
     },
     "execution_count": 72,
     "metadata": {},
     "output_type": "execute_result"
    }
   ],
   "source": [
    "dict"
   ]
  },
  {
   "cell_type": "code",
   "execution_count": 74,
   "id": "7cc1e215",
   "metadata": {},
   "outputs": [],
   "source": [
    "dict['name']=\"avi\""
   ]
  },
  {
   "cell_type": "code",
   "execution_count": 75,
   "id": "64ebf03b",
   "metadata": {},
   "outputs": [
    {
     "data": {
      "text/plain": [
       "{'name': 'avi', 'age': 23, 'salary': 10000}"
      ]
     },
     "execution_count": 75,
     "metadata": {},
     "output_type": "execute_result"
    }
   ],
   "source": [
    "dict"
   ]
  },
  {
   "cell_type": "code",
   "execution_count": 76,
   "id": "b94187df",
   "metadata": {},
   "outputs": [],
   "source": [
    "dict.clear()"
   ]
  },
  {
   "cell_type": "code",
   "execution_count": 77,
   "id": "07fa31f5",
   "metadata": {},
   "outputs": [
    {
     "data": {
      "text/plain": [
       "{}"
      ]
     },
     "execution_count": 77,
     "metadata": {},
     "output_type": "execute_result"
    }
   ],
   "source": [
    "dict"
   ]
  },
  {
   "cell_type": "code",
   "execution_count": 78,
   "id": "d4273136",
   "metadata": {},
   "outputs": [],
   "source": [
    "dict={\"name\":\"xyz\",\"age\":23}"
   ]
  },
  {
   "cell_type": "code",
   "execution_count": 79,
   "id": "3ff44587",
   "metadata": {},
   "outputs": [
    {
     "data": {
      "text/plain": [
       "'xyz'"
      ]
     },
     "execution_count": 79,
     "metadata": {},
     "output_type": "execute_result"
    }
   ],
   "source": [
    "dict.pop('name')"
   ]
  },
  {
   "cell_type": "code",
   "execution_count": 80,
   "id": "2ce33f5c",
   "metadata": {},
   "outputs": [
    {
     "data": {
      "text/plain": [
       "{'age': 23}"
      ]
     },
     "execution_count": 80,
     "metadata": {},
     "output_type": "execute_result"
    }
   ],
   "source": [
    "dict"
   ]
  },
  {
   "cell_type": "code",
   "execution_count": 81,
   "id": "2b8c3f64",
   "metadata": {},
   "outputs": [
    {
     "data": {
      "text/plain": [
       "23"
      ]
     },
     "execution_count": 81,
     "metadata": {},
     "output_type": "execute_result"
    }
   ],
   "source": [
    "dict.get('age')"
   ]
  },
  {
   "cell_type": "code",
   "execution_count": 82,
   "id": "9832b979",
   "metadata": {},
   "outputs": [],
   "source": [
    "new_dict={k:v for k,v in dict.items()}"
   ]
  },
  {
   "cell_type": "code",
   "execution_count": 83,
   "id": "bf578a1e",
   "metadata": {},
   "outputs": [
    {
     "data": {
      "text/plain": [
       "{'age': 23}"
      ]
     },
     "execution_count": 83,
     "metadata": {},
     "output_type": "execute_result"
    }
   ],
   "source": [
    "new_dict"
   ]
  },
  {
   "cell_type": "code",
   "execution_count": 86,
   "id": "bc3badc0",
   "metadata": {},
   "outputs": [
    {
     "name": "stdout",
     "output_type": "stream",
     "text": [
      "['abc', 'bcd', 'cde', 'def', 'efg', 'fgh', 'ghi', 'hij', 'ijk', 'jkl', 'klm', 'lmn', 'mno', 'nop', 'opq', 'pqr', 'qrs', 'rst', 'stu', 'tuv', 'uvw', 'vwx', 'wxy', 'xyz']\n"
     ]
    }
   ],
   "source": [
    "str='abcdefghijklmnopqrstuvwxyz'\n",
    "result=[]\n",
    "# o/p\n",
    "# list['abc','bcd','cde','def','efg,....']\n",
    "\n",
    "for i in range(len(str)-2):\n",
    "    result.append(str[i:i+3])\n",
    "print(result)\n",
    "\n"
   ]
  },
  {
   "cell_type": "code",
   "execution_count": null,
   "id": "b58edd6b",
   "metadata": {},
   "outputs": [],
   "source": [
    "#find the sum of cube of first n natural numbers\n",
    "# find the LCM of a number\n",
    "#print all disarium numbers bewteen 1-100\n",
    "# find the HCF of a number\n",
    "\n"
   ]
  },
  {
   "cell_type": "code",
   "execution_count": 2,
   "id": "050ac743",
   "metadata": {},
   "outputs": [
    {
     "name": "stdout",
     "output_type": "stream",
     "text": [
      "LCM of 6 and 7 is 42\n"
     ]
    }
   ],
   "source": [
    "# Find the LCM of two numbers\n",
    "\n",
    "num1 = int(input(\"Num1: \"))\n",
    "num2 = int(input(\"Num2: \"))\n",
    "\n",
    "# Choose the greater number to start checking\n",
    "if num1 > num2:\n",
    "    greater = num1\n",
    "else:\n",
    "    greater = num2\n",
    "\n",
    "while True:\n",
    "    if (greater % num1 == 0) and (greater % num2 == 0):\n",
    "        lcm = greater\n",
    "        break\n",
    "    greater += 1\n",
    "\n",
    "print(f'LCM of {num1} and {num2} is {lcm}')\n"
   ]
  },
  {
   "cell_type": "code",
   "execution_count": 1,
   "id": "51361512",
   "metadata": {},
   "outputs": [
    {
     "name": "stdout",
     "output_type": "stream",
     "text": [
      "HCF of 6 and 7 is 1\n"
     ]
    }
   ],
   "source": [
    "# find the HCF of a number\n",
    "# Find HCF of two numbers\n",
    "\n",
    "num1 = int(input(\"Enter first number: \"))\n",
    "num2 = int(input(\"Enter second number: \"))\n",
    "\n",
    "# Find the smaller number to start checking\n",
    "if num1 > num2:\n",
    "    smaller = num2\n",
    "else:\n",
    "    smaller = num1\n",
    "\n",
    "# Loop from 1 to the smaller number\n",
    "for i in range(1, smaller + 1):\n",
    "    if (num1 % i == 0) and (num2 % i == 0):\n",
    "        hcf = i  # Store the highest factor found so far\n",
    "\n",
    "print(f\"HCF of {num1} and {num2} is {hcf}\")\n",
    "\n"
   ]
  },
  {
   "cell_type": "code",
   "execution_count": 3,
   "id": "143bfbb6",
   "metadata": {},
   "outputs": [
    {
     "name": "stdout",
     "output_type": "stream",
     "text": [
      "Sum of cubes of first 20 natural numbers is 44100\n"
     ]
    }
   ],
   "source": [
    "#find the sum of cube of first n natural numbers\n",
    "\n",
    "count=int(input(\"how many: \"))\n",
    "sum=0\n",
    "for i in range(1,count+1):\n",
    "    sum+=i**3\n",
    "print(f'Sum of cubes of first {count} natural numbers is {sum}')"
   ]
  },
  {
   "cell_type": "code",
   "execution_count": null,
   "id": "0d17bace",
   "metadata": {},
   "outputs": [],
   "source": []
  }
 ],
 "metadata": {
  "kernelspec": {
   "display_name": "base",
   "language": "python",
   "name": "python3"
  },
  "language_info": {
   "codemirror_mode": {
    "name": "ipython",
    "version": 3
   },
   "file_extension": ".py",
   "mimetype": "text/x-python",
   "name": "python",
   "nbconvert_exporter": "python",
   "pygments_lexer": "ipython3",
   "version": "3.12.7"
  }
 },
 "nbformat": 4,
 "nbformat_minor": 5
}
