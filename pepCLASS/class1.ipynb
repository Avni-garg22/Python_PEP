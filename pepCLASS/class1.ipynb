{
 "cells": [
  {
   "cell_type": "code",
   "execution_count": null,
   "id": "9fc739d4",
   "metadata": {},
   "outputs": [
    {
     "name": "stdout",
     "output_type": "stream",
     "text": [
      "hello world\n"
     ]
    },
    {
     "name": "stdout",
     "output_type": "stream",
     "text": [
      "hello world\n"
     ]
    }
   ],
   "source": [
    "print(\"hello world\")"
   ]
  },
  {
   "cell_type": "code",
   "execution_count": null,
   "id": "8e50efb7",
   "metadata": {},
   "outputs": [],
   "source": [
    "a=1"
   ]
  },
  {
   "cell_type": "code",
   "execution_count": null,
   "id": "23599ff1",
   "metadata": {},
   "outputs": [
    {
     "data": {
      "text/plain": [
       "int"
      ]
     },
     "execution_count": 25,
     "metadata": {},
     "output_type": "execute_result"
    }
   ],
   "source": [
    "type(a)"
   ]
  },
  {
   "cell_type": "code",
   "execution_count": null,
   "id": "ef8a0da4",
   "metadata": {},
   "outputs": [
    {
     "name": "stdout",
     "output_type": "stream",
     "text": [
      "<class 'str'>\n"
     ]
    }
   ],
   "source": [
    "\"\"\"types of variables: int,string,boolean,float\"\"\"\n",
    "b=\"vikas\"\n",
    "print(type(b))"
   ]
  },
  {
   "cell_type": "code",
   "execution_count": null,
   "id": "12913c2d",
   "metadata": {},
   "outputs": [
    {
     "name": "stdout",
     "output_type": "stream",
     "text": [
      "<class 'float'>\n",
      "<class 'bool'>\n"
     ]
    }
   ],
   "source": [
    "c=1.0\n",
    "print(type(c))\n",
    "\n",
    "d=True\n",
    "print(type(d))"
   ]
  },
  {
   "cell_type": "code",
   "execution_count": null,
   "id": "bbabb207",
   "metadata": {},
   "outputs": [
    {
     "name": "stdout",
     "output_type": "stream",
     "text": [
      "<class 'float'>\n"
     ]
    },
    {
     "data": {
      "text/plain": [
       "'int= 4 bytes, float=8types'"
      ]
     },
     "execution_count": 28,
     "metadata": {},
     "output_type": "execute_result"
    }
   ],
   "source": [
    "a=1.0\n",
    "print(type(a))\n",
    "'''can change the datatype in python'''\n",
    "'''int= 4 bytes, float=8types'''"
   ]
  },
  {
   "cell_type": "code",
   "execution_count": null,
   "id": "6708481a",
   "metadata": {},
   "outputs": [
    {
     "name": "stdout",
     "output_type": "stream",
     "text": [
      "5\n",
      "pythonprograming\n",
      "python programing\n",
      "python programing\n"
     ]
    }
   ],
   "source": [
    "a=2\n",
    "b=3\n",
    "print(a+b)\n",
    "\n",
    "x=\"python\"\n",
    "y=\"programing\"\n",
    "print(x+y)\n",
    "print(x+\" \"+y)\n",
    "print(x, y)"
   ]
  },
  {
   "cell_type": "code",
   "execution_count": null,
   "id": "9d0352d0",
   "metadata": {},
   "outputs": [
    {
     "data": {
      "text/plain": [
       "' addition   == +     \\nsubstraction == -\\nmultiplication == *\\nDivision == /  gives float value\\nModulo    == %\\ndivision  == //  gives int value  '"
      ]
     },
     "execution_count": 30,
     "metadata": {},
     "output_type": "execute_result"
    }
   ],
   "source": [
    "''' ARITHMETIC OPERATOR\n",
    "addition   == +     \n",
    "substraction == -\n",
    "multiplication == *\n",
    "Division == /  gives float value\n",
    "Modulo    == %\n",
    "division  == //  gives int value  '''                                                                                                         "
   ]
  },
  {
   "cell_type": "code",
   "execution_count": null,
   "id": "bdddd310",
   "metadata": {},
   "outputs": [
    {
     "name": "stdout",
     "output_type": "stream",
     "text": [
      "12\n",
      "8\n",
      "20\n",
      "5\n",
      "0\n",
      "5.0\n",
      "100\n"
     ]
    }
   ],
   "source": [
    "a=10\n",
    "b=2\n",
    "print(a+b)\n",
    "print(a-b)\n",
    "print(a*b)\n",
    "print(a//b)\n",
    "print(a%b)\n",
    "print(a/b)\n",
    "print(a**b) #exponential operator\n"
   ]
  },
  {
   "cell_type": "code",
   "execution_count": null,
   "id": "30a83108",
   "metadata": {},
   "outputs": [
    {
     "name": "stdout",
     "output_type": "stream",
     "text": [
      "12\n"
     ]
    }
   ],
   "source": [
    "x=2\n",
    "X=10\n",
    "#python is case sensitive\n",
    "print(x+X)"
   ]
  },
  {
   "cell_type": "code",
   "execution_count": null,
   "id": "1b209270",
   "metadata": {},
   "outputs": [
    {
     "name": "stdout",
     "output_type": "stream",
     "text": [
      "False\n",
      "False\n",
      "True\n",
      "False\n",
      "True\n",
      "True\n"
     ]
    }
   ],
   "source": [
    "#LOGICAL OPERATOR\n",
    "a=10\n",
    "b=5\n",
    "\n",
    "\n",
    "print(a==b) #comparison\n",
    "print(a<b)\n",
    "print(a>b)\n",
    "print(a<=b)\n",
    "print(a>=b)\n",
    "print(a!=b)\n",
    "#print(a=b) gives error "
   ]
  },
  {
   "cell_type": "code",
   "execution_count": null,
   "id": "5154dc11",
   "metadata": {},
   "outputs": [
    {
     "name": "stdout",
     "output_type": "stream",
     "text": [
      "True\n",
      "True\n",
      "False\n"
     ]
    }
   ],
   "source": [
    "#logical\n",
    "a=10\n",
    "b=10\n",
    "c=5\n",
    "print((a==b)and (a>c))\n",
    "print((a>b) or (a>c))\n",
    "print(not(a==b))"
   ]
  },
  {
   "cell_type": "code",
   "execution_count": 46,
   "id": "378085d4",
   "metadata": {},
   "outputs": [
    {
     "name": "stdout",
     "output_type": "stream",
     "text": [
      "area of rectangle is:  32.0\n"
     ]
    }
   ],
   "source": [
    "#write program to find area of rectangle\n",
    "\n",
    "base=int(input(\"enter base of rectangle: \"))\n",
    "height=float(input(\"enter height of rectangle: \"))\n",
    "area=0.5*base*height\n",
    "print(\"area of rectangle is: \", area)"
   ]
  },
  {
   "cell_type": "code",
   "execution_count": 47,
   "id": "f1ffcccf",
   "metadata": {},
   "outputs": [
    {
     "name": "stdout",
     "output_type": "stream",
     "text": [
      "5\n"
     ]
    },
    {
     "data": {
      "text/plain": [
       "int"
      ]
     },
     "execution_count": 47,
     "metadata": {},
     "output_type": "execute_result"
    }
   ],
   "source": [
    "x=\"5\"\n",
    "x=int(x)\n",
    "print(x)\n",
    "type(x)"
   ]
  },
  {
   "cell_type": "code",
   "execution_count": 48,
   "id": "8fe6c311",
   "metadata": {},
   "outputs": [
    {
     "name": "stdout",
     "output_type": "stream",
     "text": [
      "num1 is:  6\n",
      "num2 is:  5\n"
     ]
    }
   ],
   "source": [
    "#write a progra to swap two values\n",
    "\n",
    "a=int(input(\"num1\"))\n",
    "b=int(input(\"num2\"))\n",
    "\n",
    "c=a\n",
    "a=b\n",
    "b=c\n",
    "\n",
    "print(\"num1 is: \", a)\n",
    "print(\"num2 is: \", b)"
   ]
  },
  {
   "cell_type": "code",
   "execution_count": null,
   "id": "442a74e0",
   "metadata": {},
   "outputs": [
    {
     "name": "stdout",
     "output_type": "stream",
     "text": [
      "num1 is:  5\n",
      "num2 is:  6\n"
     ]
    }
   ],
   "source": [
    "a,b = b,a #direct\n",
    "\n",
    "print(\"num1 is: \", a)\n",
    "print(\"num2 is: \", b)"
   ]
  },
  {
   "cell_type": "code",
   "execution_count": 2,
   "id": "53a225a2",
   "metadata": {},
   "outputs": [
    {
     "name": "stdout",
     "output_type": "stream",
     "text": [
      "0\n",
      "1\n",
      "1\n",
      "2\n",
      "3\n",
      "5\n",
      "8\n",
      "13\n",
      "21\n",
      "34\n",
      "55\n",
      "89\n",
      "144\n",
      "233\n",
      "377\n",
      "610\n",
      "987\n",
      "1597\n",
      "2584\n",
      "4181\n",
      "6765\n",
      "10946\n"
     ]
    }
   ],
   "source": [
    "#write a program to find fibonacci series\n",
    "a=0\n",
    "b=1\n",
    "print(a)\n",
    "print(b)\n",
    "c = 1\n",
    "while(c<=20):\n",
    "    sum = a+b\n",
    "    print(sum)\n",
    "    a=b\n",
    "    b=sum\n",
    "    c=c+1"
   ]
  },
  {
   "cell_type": "code",
   "execution_count": 2,
   "id": "d6afcf18",
   "metadata": {},
   "outputs": [
    {
     "data": {
      "text/plain": [
       "str"
      ]
     },
     "execution_count": 2,
     "metadata": {},
     "output_type": "execute_result"
    }
   ],
   "source": [
    "a=\"vikas\"\n",
    "# int(a) #gives error\n",
    "type(a) #check type of a\n",
    "#to convert string to int, we need to use int() function    \n",
    "#example of converting string to int\n",
    "\n",
    "\n",
    "a=\"5\"\n",
    "int(a) #converts string to int\n",
    "type(a) #check type of a"
   ]
  },
  {
   "cell_type": "code",
   "execution_count": 1,
   "id": "9548dccb",
   "metadata": {},
   "outputs": [
    {
     "name": "stdout",
     "output_type": "stream",
     "text": [
      "factorial of 6 is 720\n"
     ]
    }
   ],
   "source": [
    "#write a program to find factorial of a number\n",
    "def factorial (n):\n",
    "    if n==0 or n==1:\n",
    "        return 1\n",
    "    else:\n",
    "        return n*factorial(n-1)\n",
    "    \n",
    "num=int(input(\"enter a number: \"))\n",
    "print(\"factorial of\", num, \"is\", factorial(num))"
   ]
  }
 ],
 "metadata": {
  "kernelspec": {
   "display_name": "base",
   "language": "python",
   "name": "python3"
  },
  "language_info": {
   "codemirror_mode": {
    "name": "ipython",
    "version": 3
   },
   "file_extension": ".py",
   "mimetype": "text/x-python",
   "name": "python",
   "nbconvert_exporter": "python",
   "pygments_lexer": "ipython3",
   "version": "3.12.7"
  }
 },
 "nbformat": 4,
 "nbformat_minor": 5
}
