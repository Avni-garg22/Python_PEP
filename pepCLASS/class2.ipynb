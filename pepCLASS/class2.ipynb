{
 "cells": [
  {
   "cell_type": "code",
   "execution_count": null,
   "id": "303eaa1e",
   "metadata": {},
   "outputs": [],
   "source": [
    "#python string is like an array \n",
    "\n",
    "a=\"Python\"\n"
   ]
  },
  {
   "cell_type": "code",
   "execution_count": null,
   "id": "2fd3aab2",
   "metadata": {},
   "outputs": [],
   "source": [
    "PYTHON\n",
    "012345\n"
   ]
  },
  {
   "cell_type": "code",
   "execution_count": null,
   "id": "7dad9428",
   "metadata": {},
   "outputs": [],
   "source": [
    "len(a)"
   ]
  },
  {
   "cell_type": "code",
   "execution_count": null,
   "id": "4053e4b5",
   "metadata": {},
   "outputs": [],
   "source": [
    "a[0]"
   ]
  },
  {
   "cell_type": "code",
   "execution_count": null,
   "id": "9bb00b64",
   "metadata": {},
   "outputs": [],
   "source": [
    "a[4]"
   ]
  },
  {
   "cell_type": "code",
   "execution_count": null,
   "id": "9bbc63c0",
   "metadata": {},
   "outputs": [],
   "source": [
    "a[0:3]"
   ]
  },
  {
   "cell_type": "code",
   "execution_count": null,
   "id": "88915da1",
   "metadata": {},
   "outputs": [],
   "source": [
    "str=\"welcome to the second day of python\"\n",
    "    #  012345678910111213\n",
    "print(str[0:4])\n",
    "print(str[5:10])\n",
    "print(str[:])\n",
    "print(str[7:13:2]) #2skip\n",
    "print(str[-1]) #last value\n",
    "print(str[-8:-3])\n",
    "print(str[7:2:-1])\n",
    "print(str[::-1]) #reverse the string"
   ]
  },
  {
   "cell_type": "code",
   "execution_count": null,
   "id": "40578985",
   "metadata": {},
   "outputs": [],
   "source": [
    "str=input(\"Enter a string:\")\n",
    "if str[:].lower() == str[::-1].lower():\n",
    "   print(\"the string is palindrome\")\n",
    "else:\n",
    "    print(\"please try again:\")"
   ]
  },
  {
   "cell_type": "code",
   "execution_count": null,
   "id": "f1d8e6ff",
   "metadata": {},
   "outputs": [],
   "source": [
    "str = \"i aM a Python proGramer\"\n",
    "\n",
    "print(str.upper())\n",
    "print(str.lower())\n",
    "print(str.title())\n",
    "print(str.capitalize())\n",
    "print(str.casefold())\n",
    "print(str.swapcase())"
   ]
  },
  {
   "cell_type": "code",
   "execution_count": null,
   "id": "543ae606",
   "metadata": {},
   "outputs": [],
   "source": [
    "str=\"vika#s\"\n",
    "str1 = \" Sahin  \"\n",
    "str2 =\"   Virat\"\n",
    "str3 =\"  Avii  \"\n",
    "str4 = \"Shubh Gupta\"\n",
    "\n",
    "print(str.replace('#',''))\n",
    "print(str1.strip()) #both sides space removed\n",
    "print(str2.lstrip()) #left side space removed\n",
    "print(str3.rstrip()) #right side space removed\n",
    "print(str4.split()) #split by space"
   ]
  },
  {
   "cell_type": "code",
   "execution_count": null,
   "id": "ef584656",
   "metadata": {},
   "outputs": [],
   "source": [
    "str ='LeetCode offers over 3700 questions to practice coding skills, \\nprepare for technical interviews and join tech communities. You can also access online assessments, \\ntraining and interview \\tresources'\n",
    "print(str)    #\\t is tabspace"
   ]
  },
  {
   "cell_type": "code",
   "execution_count": null,
   "id": "24a121ad",
   "metadata": {},
   "outputs": [],
   "source": [
    "print(str.replace(',',''))"
   ]
  },
  {
   "cell_type": "code",
   "execution_count": null,
   "id": "c7150efa",
   "metadata": {},
   "outputs": [],
   "source": [
    "print(str.lower())"
   ]
  },
  {
   "cell_type": "code",
   "execution_count": null,
   "id": "eba4506b",
   "metadata": {},
   "outputs": [],
   "source": [
    "#print is a function in python which can do many other things other than printing clear_output\n",
    "\n",
    "print(\"Vikas\",\"Python\",\"programming\")  #with space\n",
    "print(\"Vikas\"+\"Python\"+\"programming\") #no space"
   ]
  },
  {
   "cell_type": "code",
   "execution_count": null,
   "id": "64ede1b2",
   "metadata": {},
   "outputs": [],
   "source": [
    "print('vikas')"
   ]
  },
  {
   "cell_type": "code",
   "execution_count": null,
   "id": "24b055ba",
   "metadata": {},
   "outputs": [],
   "source": [
    "print(\"This LPU's classroom\")"
   ]
  },
  {
   "cell_type": "code",
   "execution_count": null,
   "id": "841f5152",
   "metadata": {},
   "outputs": [],
   "source": [
    "print(\"\"\"'Like it is said,\"to err is human, to forgive is divine'\"\"\")"
   ]
  },
  {
   "cell_type": "code",
   "execution_count": null,
   "id": "0a69456b",
   "metadata": {},
   "outputs": [],
   "source": [
    "sales=20000\n",
    "# mnth=\"october\"\n",
    "print(\"the sales value for this month of jun is Rs.{}\".format(sales))\n"
   ]
  },
  {
   "cell_type": "code",
   "execution_count": null,
   "id": "2722ee39",
   "metadata": {},
   "outputs": [],
   "source": [
    "sales=20000\n",
    "month=\"october\"\n",
    "print(\"the sales value for this month of {} is Rs.{}\".format(month,sales))"
   ]
  },
  {
   "cell_type": "code",
   "execution_count": null,
   "id": "0cf61e53",
   "metadata": {},
   "outputs": [],
   "source": [
    "print(f'The sales value for this month of {month} is Rs.{sales}')"
   ]
  },
  {
   "cell_type": "code",
   "execution_count": null,
   "id": "a1d4a845",
   "metadata": {},
   "outputs": [],
   "source": [
    "dir=\"G\"\n",
    "subdir=\"LPU\"\n",
    "f'{dir},{subdir}avigarg'"
   ]
  },
  {
   "cell_type": "code",
   "execution_count": null,
   "id": "b7ffcff1",
   "metadata": {},
   "outputs": [],
   "source": [
    "x=0\n",
    "while(x<10):\n",
    "     print(x)\n",
    "     x=x+1\n",
    "     if(x==5):\n",
    "          break\n",
    "\n"
   ]
  },
  {
   "cell_type": "code",
   "execution_count": null,
   "id": "d4d58374",
   "metadata": {},
   "outputs": [],
   "source": [
    "x=0\n",
    "while(x<=100):\n",
    "    print(x)\n",
    "    x+=1\n",
    "   \n",
    "    if(x==15):\n",
    "        continue\n",
    "\n",
    "    if(x==30):\n",
    "        break"
   ]
  },
  {
   "cell_type": "code",
   "execution_count": null,
   "id": "997666dc",
   "metadata": {},
   "outputs": [],
   "source": [
    "x=30\n",
    "if(x<20):\n",
    "    print(\"something\")\n",
    "else:\n",
    "    print(\"something else\")"
   ]
  },
  {
   "cell_type": "code",
   "execution_count": null,
   "id": "ee9c41d3",
   "metadata": {},
   "outputs": [],
   "source": [
    "marks = int(input(\"marks\"))\n",
    "\n",
    "if(marks<100) and (marks>=80):\n",
    "    print(\"Grade A\")\n",
    "elif((marks<80) and (marks>=60)):\n",
    "   print(\"Grade B\")\n",
    "elif((marks<60) and (marks>=40)):\n",
    "   print(\"Grade C\")\n",
    "else:\n",
    "   print(\"Fail\")\n"
   ]
  },
  {
   "cell_type": "code",
   "execution_count": null,
   "id": "a054c832",
   "metadata": {},
   "outputs": [],
   "source": [
    "#Write  a Python program to check whether a number is even or odd"
   ]
  },
  {
   "cell_type": "code",
   "execution_count": 87,
   "id": "18d48eaa",
   "metadata": {},
   "outputs": [
    {
     "name": "stdout",
     "output_type": "stream",
     "text": [
      "7 is prime\n"
     ]
    }
   ],
   "source": [
    "#to chck prime number\n",
    "\n",
    "num= int(input(\"Enter a number:\"))\n",
    "for i in(range(2,num)):\n",
    "    if num%i==0:\n",
    "        print(f'{num} is not prime')\n",
    "        break\n",
    "    else:\n",
    "        print(f'{num} is prime')\n",
    "        break\n",
    "\n",
    "\n",
    "    "
   ]
  },
  {
   "cell_type": "code",
   "execution_count": 88,
   "id": "73cfca32",
   "metadata": {},
   "outputs": [
    {
     "name": "stdout",
     "output_type": "stream",
     "text": [
      "2020 is a leap year\n"
     ]
    }
   ],
   "source": [
    "#leap year\n",
    "\n",
    "year= int (input(\"enter a year\"))\n",
    "\n",
    "if((year%4==0) and (year%100!=0)) or (year%400==0):\n",
    "    print(f'{year} is a leap year')\n",
    "else:\n",
    "    print(f'{year} is not a leap year')"
   ]
  },
  {
   "cell_type": "code",
   "execution_count": null,
   "id": "f71244fd",
   "metadata": {},
   "outputs": [],
   "source": [
    "#check Armstrong number\n",
    "num= input(\"Enter a number:\")\n",
    "pow = len(num)\n",
    "sum=0\n",
    "for i in (range(len(num)-1)):\n",
    "    sum+= int(num[i])**pow\n",
    "if sum == int(num):\n",
    "    print(f'{num} is an Armstrong number')"
   ]
  }
 ],
 "metadata": {
  "kernelspec": {
   "display_name": "base",
   "language": "python",
   "name": "python3"
  },
  "language_info": {
   "codemirror_mode": {
    "name": "ipython",
    "version": 3
   },
   "file_extension": ".py",
   "mimetype": "text/x-python",
   "name": "python",
   "nbconvert_exporter": "python",
   "pygments_lexer": "ipython3",
   "version": "3.12.7"
  }
 },
 "nbformat": 4,
 "nbformat_minor": 5
}
