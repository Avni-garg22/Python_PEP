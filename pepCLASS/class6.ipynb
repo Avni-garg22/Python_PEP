{
 "cells": [
  {
   "cell_type": "code",
   "execution_count": 6,
   "id": "84e826bd",
   "metadata": {},
   "outputs": [
    {
     "data": {
      "text/plain": [
       "50"
      ]
     },
     "execution_count": 6,
     "metadata": {},
     "output_type": "execute_result"
    }
   ],
   "source": [
    "class maths():\n",
    "    def __init__(self):\n",
    "        self.num1=20\n",
    "        self.num2=30\n",
    "\n",
    "    def add(self):\n",
    "        return self.num1 + self.num2\n",
    "    \n",
    "x=maths()\n",
    "x.add()"
   ]
  },
  {
   "cell_type": "code",
   "execution_count": 10,
   "id": "3d327159",
   "metadata": {},
   "outputs": [
    {
     "data": {
      "text/plain": [
       "100"
      ]
     },
     "execution_count": 10,
     "metadata": {},
     "output_type": "execute_result"
    }
   ],
   "source": [
    "class maths():\n",
    "    def __init__(self,num1,num2): #constructor\n",
    "        self.num1=num1\n",
    "        self.num2=num2\n",
    "\n",
    "    def add(self):\n",
    "        return self.num1 + self.num2\n",
    "    \n",
    "x=maths(10,90)\n",
    "x.add()"
   ]
  },
  {
   "cell_type": "code",
   "execution_count": 15,
   "id": "2c6baabb",
   "metadata": {},
   "outputs": [
    {
     "name": "stdout",
     "output_type": "stream",
     "text": [
      "Model:  RealMe X  and Price:  1000\n",
      "Nokia\n"
     ]
    }
   ],
   "source": [
    "class Mobile:\n",
    "    #constructor\n",
    "    def __init__(self, m):\n",
    "        self.model=m\n",
    "\n",
    "    def show_model(self,p):\n",
    "        price = p #local variable\n",
    "        print(\"Model: \",self.model,\" and Price: \",price)\n",
    "\n",
    "#Passing argument to constructor\n",
    "realme=Mobile(\"RealMe X\")\n",
    "\n",
    "#accessing method from outside class\n",
    "realme.show_model(1000)\n",
    "realme.model=\"Nokia\"\n",
    "\n",
    "print(realme.model)"
   ]
  },
  {
   "cell_type": "code",
   "execution_count": null,
   "id": "e870bb28",
   "metadata": {},
   "outputs": [],
   "source": [
    "#Multi-level Inheritance\n",
    "class father:\n",
    "    def __init__(self):\n",
    "        print(\"Father class constructor\")\n",
    "    def show(self):\n",
    "        "
   ]
  },
  {
   "cell_type": "code",
   "execution_count": null,
   "id": "a7527bc7",
   "metadata": {},
   "outputs": [],
   "source": [
    "classes  dealing with complex number\n",
    "    class2- "
   ]
  }
 ],
 "metadata": {
  "kernelspec": {
   "display_name": "base",
   "language": "python",
   "name": "python3"
  },
  "language_info": {
   "codemirror_mode": {
    "name": "ipython",
    "version": 3
   },
   "file_extension": ".py",
   "mimetype": "text/x-python",
   "name": "python",
   "nbconvert_exporter": "python",
   "pygments_lexer": "ipython3",
   "version": "3.12.7"
  }
 },
 "nbformat": 4,
 "nbformat_minor": 5
}
