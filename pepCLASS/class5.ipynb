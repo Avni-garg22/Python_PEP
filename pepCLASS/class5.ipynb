{
 "cells": [
  {
   "cell_type": "code",
   "execution_count": 2,
   "id": "e89411c0",
   "metadata": {},
   "outputs": [
    {
     "data": {
      "text/plain": [
       "3"
      ]
     },
     "execution_count": 2,
     "metadata": {},
     "output_type": "execute_result"
    }
   ],
   "source": [
    "# function\n",
    "\n",
    "def myfirstfunc(x,y):\n",
    "    sum=x+y\n",
    "    return sum\n",
    "myfirstfunc(1,2)"
   ]
  },
  {
   "cell_type": "code",
   "execution_count": 4,
   "id": "e7559017",
   "metadata": {},
   "outputs": [
    {
     "data": {
      "text/plain": [
       "13"
      ]
     },
     "execution_count": 4,
     "metadata": {},
     "output_type": "execute_result"
    }
   ],
   "source": [
    "def myfirstfunc(x=5,y=8):\n",
    "    sum=x+y\n",
    "    return sum\n",
    "\n",
    "myfirstfunc()"
   ]
  },
  {
   "cell_type": "code",
   "execution_count": 8,
   "id": "4b8ddcaf",
   "metadata": {},
   "outputs": [
    {
     "name": "stdout",
     "output_type": "stream",
     "text": [
      "welcomed by Avni\n",
      "welcomed by Avni\n"
     ]
    }
   ],
   "source": [
    "def disp():\n",
    "    name=\"Avni\"\n",
    "    print(\"welcomed by\", name)\n",
    "disp()\n",
    "\n",
    "disp()"
   ]
  },
  {
   "cell_type": "code",
   "execution_count": 11,
   "id": "71dceb3c",
   "metadata": {},
   "outputs": [
    {
     "name": "stdout",
     "output_type": "stream",
     "text": [
      "9\n",
      "9\n"
     ]
    }
   ],
   "source": [
    "def addii(a,b):\n",
    "    c=a+b\n",
    "    print(c)\n",
    "\n",
    "addii(4,5)\n",
    "addii(9,0)"
   ]
  },
  {
   "cell_type": "code",
   "execution_count": 38,
   "id": "4d1d53b9",
   "metadata": {},
   "outputs": [
    {
     "name": "stdout",
     "output_type": "stream",
     "text": [
      "8\n",
      "9\n"
     ]
    }
   ],
   "source": [
    "def addii(b, a=4):\n",
    "    c=a+b\n",
    "    print(c)\n",
    "\n",
    "addii(4)\n",
    "addii(3,6)"
   ]
  },
  {
   "cell_type": "code",
   "execution_count": 17,
   "id": "62adc86c",
   "metadata": {},
   "outputs": [
    {
     "name": "stdout",
     "output_type": "stream",
     "text": [
      "display\n",
      "shown\n"
     ]
    }
   ],
   "source": [
    "def disp():\n",
    "    def show():\n",
    "        print(\"shown\")\n",
    "    print(\"display\")\n",
    "    show()\n",
    "\n",
    "disp()"
   ]
  },
  {
   "cell_type": "code",
   "execution_count": 44,
   "id": "092e8687",
   "metadata": {},
   "outputs": [
    {
     "name": "stdout",
     "output_type": "stream",
     "text": [
      "<class 'function'>\n",
      "Display function show function\n"
     ]
    }
   ],
   "source": [
    "def disp(sh):\n",
    "    print(type(sh))\n",
    "    print(\"Display function\"+ sh())\n",
    "\n",
    "def show():\n",
    "    return \" show function\"\n",
    "\n",
    "\n",
    "disp(show)\n",
    "\n",
    "\n",
    "\n",
    "\n",
    "\n"
   ]
  },
  {
   "cell_type": "code",
   "execution_count": null,
   "id": "403e200d",
   "metadata": {},
   "outputs": [
    {
     "name": "stdout",
     "output_type": "stream",
     "text": [
      "shown functiom disp func\n"
     ]
    }
   ],
   "source": [
    "def disp():\n",
    "    def show():\n",
    "        return \"shown function\"\n",
    "    result=show()+\" disp func\"\n",
    "    return result\n",
    "print(disp())\n"
   ]
  },
  {
   "cell_type": "code",
   "execution_count": null,
   "id": "1c5b91ae",
   "metadata": {},
   "outputs": [
    {
     "data": {
      "text/plain": [
       "15"
      ]
     },
     "execution_count": 33,
     "metadata": {},
     "output_type": "execute_result"
    }
   ],
   "source": [
    "def func(*num): #*crerates tupule\n",
    "    sum = num[0]+ num[1]+ num[2] #indexes\n",
    "    return sum\n",
    "\n",
    "func(4,5,6)"
   ]
  },
  {
   "cell_type": "code",
   "execution_count": null,
   "id": "46faf9af",
   "metadata": {},
   "outputs": [
    {
     "data": {
      "text/plain": [
       "15"
      ]
     },
     "execution_count": 48,
     "metadata": {},
     "output_type": "execute_result"
    }
   ],
   "source": [
    "def func(**num): #  ** give key to variable\n",
    "    sum = num['a']+ num['b']+ num['c'] \n",
    "    return sum\n",
    "\n",
    "func(a=4,b=5,c=6)"
   ]
  },
  {
   "cell_type": "code",
   "execution_count": 51,
   "id": "9e9725a2",
   "metadata": {},
   "outputs": [
    {
     "data": {
      "text/plain": [
       "26"
      ]
     },
     "execution_count": 51,
     "metadata": {},
     "output_type": "execute_result"
    }
   ],
   "source": [
    "def func2(*num1,**num2):\n",
    "    sum=num1[0]+num1[1]+num2['a']+num2['b']+num2['c']\n",
    "    return sum\n",
    "\n",
    "func2(4,7,a=2,b=6,c=7)"
   ]
  },
  {
   "cell_type": "code",
   "execution_count": 55,
   "id": "22bb94e7",
   "metadata": {},
   "outputs": [
    {
     "data": {
      "text/plain": [
       "5"
      ]
     },
     "execution_count": 55,
     "metadata": {},
     "output_type": "execute_result"
    }
   ],
   "source": [
    "# funtion inside a fucntion\n",
    "def plus(x,y):\n",
    "    sum=x+y\n",
    "    return sum\n",
    "\n",
    "def func3(a,b):\n",
    "    add=plus(a,b)\n",
    "    return add\n",
    "\n",
    "\n",
    "func3(2,3)"
   ]
  },
  {
   "cell_type": "code",
   "execution_count": 56,
   "id": "1c184c3e",
   "metadata": {},
   "outputs": [
    {
     "data": {
      "text/plain": [
       "-5.0"
      ]
     },
     "execution_count": 56,
     "metadata": {},
     "output_type": "execute_result"
    }
   ],
   "source": [
    "def minus(x,y):\n",
    "    sum=x-y\n",
    "    return sum\n",
    "\n",
    "def plus(x,y):\n",
    "    sum=x+y\n",
    "    return sum\n",
    "\n",
    "def func3(a,b):\n",
    "    add=plus(a,b)/minus(a,b)\n",
    "    return add\n",
    "\n",
    "\n",
    "func3(2,3)"
   ]
  },
  {
   "cell_type": "code",
   "execution_count": 57,
   "id": "f9d0ac78",
   "metadata": {},
   "outputs": [
    {
     "name": "stdout",
     "output_type": "stream",
     "text": [
      "18\n"
     ]
    }
   ],
   "source": [
    "#local variable\n",
    "\n",
    "#ex1\n",
    "\n",
    "def show():\n",
    "    x=18 #local\n",
    "    print(x)\n",
    "show()"
   ]
  },
  {
   "cell_type": "code",
   "execution_count": 59,
   "id": "707f6931",
   "metadata": {},
   "outputs": [
    {
     "name": "stdout",
     "output_type": "stream",
     "text": [
      "9\n"
     ]
    }
   ],
   "source": [
    "def fun(x):\n",
    "    sum=x+x\n",
    "    return sum\n",
    "\n",
    "print(9)"
   ]
  },
  {
   "cell_type": "code",
   "execution_count": null,
   "id": "b86a05dd",
   "metadata": {},
   "outputs": [
    {
     "name": "stdout",
     "output_type": "stream",
     "text": [
      "10\n",
      "50\n",
      "Global variable A:  50\n"
     ]
    }
   ],
   "source": [
    "a=50\n",
    "def show():\n",
    "    x=10\n",
    "    print(x)\n",
    "    print(a)\n",
    "show()\n",
    "\n",
    "print(\"Global variable A: \",a)\n",
    "\n",
    "# print(\"Local variable X: \",x)\n"
   ]
  },
  {
   "cell_type": "code",
   "execution_count": 62,
   "id": "1748574f",
   "metadata": {},
   "outputs": [
    {
     "name": "stdout",
     "output_type": "stream",
     "text": [
      "3628800\n"
     ]
    }
   ],
   "source": [
    "#factorial using recursiom\n",
    "\n",
    "def fact(n):\n",
    "    if n==0:\n",
    "        return 1\n",
    "    return n*fact(n-1)\n",
    "\n",
    "print(fact(10))"
   ]
  },
  {
   "cell_type": "code",
   "execution_count": null,
   "id": "f73f62ce",
   "metadata": {},
   "outputs": [
    {
     "name": "stdout",
     "output_type": "stream",
     "text": [
      "5\n"
     ]
    },
    {
     "data": {
      "text/plain": [
       "14"
      ]
     },
     "execution_count": 65,
     "metadata": {},
     "output_type": "execute_result"
    }
   ],
   "source": [
    "#Anonymous Function or Lamda Function\n",
    "#Example 1 Single Argument\n",
    "\n",
    "show = lambda x: print(x)\n",
    "show(5)\n",
    "\n",
    "#2 argumennt\n",
    "add=lambda x,y : (x+y)\n",
    "add(5,9)\n",
    "\n",
    "#3 return multiple\n",
    "\n",
    "\n",
    "\n"
   ]
  },
  {
   "cell_type": "code",
   "execution_count": null,
   "id": "8e437f04",
   "metadata": {},
   "outputs": [],
   "source": []
  }
 ],
 "metadata": {
  "kernelspec": {
   "display_name": "base",
   "language": "python",
   "name": "python3"
  },
  "language_info": {
   "codemirror_mode": {
    "name": "ipython",
    "version": 3
   },
   "file_extension": ".py",
   "mimetype": "text/x-python",
   "name": "python",
   "nbconvert_exporter": "python",
   "pygments_lexer": "ipython3",
   "version": "3.12.7"
  }
 },
 "nbformat": 4,
 "nbformat_minor": 5
}
