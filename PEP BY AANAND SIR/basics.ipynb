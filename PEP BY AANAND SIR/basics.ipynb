{
 "cells": [
  {
   "cell_type": "code",
   "execution_count": null,
   "id": "f3f42770",
   "metadata": {},
   "outputs": [],
   "source": [
    "# 1)create 2) display 3)raise 4)exit\n",
    "\n",
    "# 1 enter the Name \n",
    "# enter the age"
   ]
  },
  {
   "cell_type": "code",
   "execution_count": null,
   "id": "73b56618",
   "metadata": {},
   "outputs": [],
   "source": [
    "# Initialize empty data\n",
    "person = {}\n",
    "\n",
    "while True:\n",
    "    print(\"\\nMenu:\")\n",
    "    print(\"1) Create\")\n",
    "    print(\"2) Display\")\n",
    "    print(\"3) Raise Exception\")\n",
    "    print(\"4) Exit\")\n",
    "\n",
    "    choice = input(\"Enter your choice (1-4): \")\n",
    "\n",
    "    if choice == '1':\n",
    "        name = input(\"Enter the Name: \")\n",
    "        age = input(\"Enter the Age: \")\n",
    "        person['name'] = name\n",
    "        person['age'] = age\n",
    "        print(\"Data saved successfully!\")\n",
    "\n",
    "    elif choice == '2':\n",
    "        if person:\n",
    "            print(\"\\n--- Stored Data ---\")\n",
    "            print(\"Name:\", person.get('name'))\n",
    "            print(\"Age:\", person.get('age'))\n",
    "        else:\n",
    "            print(\"No data found. Please create first.\")\n",
    "\n",
    "    elif choice == '3':\n",
    "        raise Exception(\"This is a raised exception!\")\n",
    "\n",
    "    elif choice == '4':\n",
    "        print(\"Exiting the program. Goodbye!\")\n",
    "        break\n",
    "\n",
    "    else:\n",
    "        print(\"Invalid choice. Please enter 1 to 4.\")\n"
   ]
  },
  {
   "cell_type": "code",
   "execution_count": 2,
   "id": "e25b44bd",
   "metadata": {},
   "outputs": [
    {
     "name": "stdout",
     "output_type": "stream",
     "text": [
      "10\n"
     ]
    }
   ],
   "source": [
    "class multiply(object):\n",
    "    def mul(self, a,b):\n",
    "        print(a*b)\n",
    "x=multiply()\n",
    "x.mul(2,5)"
   ]
  },
  {
   "cell_type": "code",
   "execution_count": null,
   "id": "be7b8bf5",
   "metadata": {},
   "outputs": [],
   "source": [
    "class addition(object):\n",
    "    def add(self, a,b):\n",
    "        print(a+b)\n",
    "x=addition()\n",
    "x.add(2,5)\n"
   ]
  }
 ],
 "metadata": {
  "kernelspec": {
   "display_name": "base",
   "language": "python",
   "name": "python3"
  },
  "language_info": {
   "codemirror_mode": {
    "name": "ipython",
    "version": 3
   },
   "file_extension": ".py",
   "mimetype": "text/x-python",
   "name": "python",
   "nbconvert_exporter": "python",
   "pygments_lexer": "ipython3",
   "version": "3.12.7"
  }
 },
 "nbformat": 4,
 "nbformat_minor": 5
}
