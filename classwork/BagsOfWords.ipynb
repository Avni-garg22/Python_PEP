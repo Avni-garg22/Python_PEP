{
 "cells": [
  {
   "cell_type": "code",
   "execution_count": null,
   "metadata": {},
   "outputs": [
    {
     "name": "stdout",
     "output_type": "stream",
     "text": [
      "[['python', 'is', 'amazing', 'and', 'fun'], ['python', 'is', 'not', 'just', 'fun', 'but', 'also', 'powerful'], ['learning', 'python', 'is', 'fun']]\n",
      "Vocabulary: ['also', 'amazing', 'and', 'but', 'fun', 'is', 'just', 'learning', 'not', 'powerful', 'python']\n"
     ]
    }
   ],
   "source": [
    "from collections import defaultdict\n",
    "import string\n",
    "\n",
    "#sample text data: sentences\n",
    "corpus=[\n",
    "    \"python is amazing and fun.\",\n",
    "    \"Python is not just fun but also powerful.\",\n",
    "    \"learning python is fun!\",\n",
    "]\n",
    "\n",
    "#function to preprocess text\n",
    "def preprocess (text):\n",
    "    #convert to lowercase\n",
    "    text=text.lower()\n",
    "\n",
    "    #remove punctuation\n",
    "    text=text.translate(str.maketrans(\"\",\"\",string.punctuation))\n",
    "\n",
    "    #Tokenize : split the text into words \n",
    "    tokens = text.split()\n",
    "    return tokens\n",
    "\n",
    "#Apply preprocessing to the sample corpus\n",
    "processed_corpus = [preprocess(sentence) for sentence in corpus]\n",
    "print(processed_corpus)\n",
    "\n",
    "'''step2'''\n",
    "#Initialize an empty set for the vocabulary\n",
    "vocabulary=set()\n",
    "\n",
    "#Build the vocabulary\n",
    "for sentence in processed_corpus:\n",
    "    vocabulary.update(sentence)\n",
    "\n",
    "#Convert to a sorted list\n",
    "vocabulary=sorted(list(vocabulary))\n",
    "print(\"Vocabulary:\",vocabulary)\n",
    "\n",
    "#step3:\n",
    "\n",
    "def create_bow_vector(sentence,vocab):\n",
    "    vector=[0]*len(vocab) #initialize a vector of zeros\n",
    "    for word in sentence:\n",
    "        if word in vocab:\n",
    "            idx=vocab.index(word) #Find the index of the word in the vocabulary\n",
    "            vector[idx]=\n"
   ]
  }
 ],
 "metadata": {
  "kernelspec": {
   "display_name": "base",
   "language": "python",
   "name": "python3"
  },
  "language_info": {
   "codemirror_mode": {
    "name": "ipython",
    "version": 3
   },
   "file_extension": ".py",
   "mimetype": "text/x-python",
   "name": "python",
   "nbconvert_exporter": "python",
   "pygments_lexer": "ipython3",
   "version": "3.12.7"
  }
 },
 "nbformat": 4,
 "nbformat_minor": 2
}
